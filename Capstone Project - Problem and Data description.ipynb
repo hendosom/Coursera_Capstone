{
 "cells": [
  {
   "cell_type": "markdown",
   "metadata": {},
   "source": [
    "# Coursera Capstone Project\n",
    "\n",
    "## 1. Problem Description\n",
    "\n",
    "This data science project will focus on the city of Hamburg, Germany. \n",
    "\n",
    "Hamburg is one of the largest cities in Germany, an industry hub in the north of the country, and a desired place to live and work for many, especially young people such as students. With these advantages, however, come comparably high rents. Looking for a place to live in Hamburg requires one to look at several variables to make a reasonable choice: \n",
    "\n",
    "  * First of all, where can one afford to rent an appartment? \n",
    "  * Second, which areas cover ones personal interests best? A nature-loving person might like to live in the vincinity of parks and trails, while others might enjoy a neighbourhood with plenty of restaurants and bars.\n",
    "\n",
    "In this project, I will analyze neighbourhoods in Hamburg in regards to rent per square meter and popular venues. Primary stakeholders who would be interested in this data are:\n",
    "  * people house-/appartment-hunting \n",
    "  * realtors, who can use the data to define areas best matching the demands of their clients\n",
    "  \n",
    "Providing an compact and easy-to-understand dataset characterizing Hamburg neighbourhoods would provide these stakeholders with a foundation to quickly determine target neighbourhoods for their search and avoid them wasting time searching through the whole city.\n",
    "  \n",
    "Furthermore, there are secondary stakeholders who also might find the analysis interesting: for example, city officials could use the visualization to find areas that would benefit the most from additional housing projects or additional public recreational areas. Entrepreneurs that plan to open a certain type of service could use the data to find areas where this type is underrepresented.\n"
   ]
  },
  {
   "cell_type": "markdown",
   "metadata": {},
   "source": [
    "## 2. Data Description"
   ]
  },
  {
   "cell_type": "markdown",
   "metadata": {},
   "source": [
    "This project will work with a dataset provided by the city of Hamburg. It can be found here: https://mietspiegeltabelle.de/mietspiegel-hamburg/ . The dataset contains the names of the neighbourhoods of Hamburg and their respective mean rents per square meter from 2017."
   ]
  },
  {
   "cell_type": "markdown",
   "metadata": {},
   "source": [
    "![alt text](exampleHamburgData.jpg \"Example of neighbourhood and rent data\")\n",
    "\n",
    "##### Fig. 1: Head of dataset containing Hamburg neighbourhoods and mean rent per square meters in Euro (2017) (labels in German). "
   ]
  },
  {
   "cell_type": "markdown",
   "metadata": {},
   "source": [
    "\n",
    "\n",
    "Furthermore, the neighbourhood names in the above dataset will be used to determine geolocation data (latitude, longitude) and subsequently retrieve venue data using the Foursquare API. Venue data retrieved from Foursquare will be further dissassembled to retrieve relevant information such as venue category types at different levels of precision. As an example, a restaurant of type \"Italian Restaurant\" can be more broadly categorized into \"Italian\" and even more generalized, be categorized as \"food\" (see figure 2 below)."
   ]
  },
  {
   "cell_type": "markdown",
   "metadata": {},
   "source": [
    "![alt text](dataExample.png \"Example of data retrieved from Foursquare\")\n",
    "\n",
    "##### Fig. 2: Example of data retrieved from Foursquare for an example venue. Highlighted are the venue category type (name) as well as higher-level category types that can be used to more broadly characterize a venue."
   ]
  },
  {
   "cell_type": "markdown",
   "metadata": {},
   "source": [
    "From the retrieved Foursquare data, several dataframes will be generated, containing the venue types and subsequently their freuqency for every neighbourhood.  Before going into the exploratory data analysis, dataframes will be cleaned from neighbourhoods that do not contain any popular venues."
   ]
  },
  {
   "cell_type": "code",
   "execution_count": null,
   "metadata": {},
   "outputs": [],
   "source": []
  }
 ],
 "metadata": {
  "kernelspec": {
   "display_name": "Python 3",
   "language": "python",
   "name": "python3"
  },
  "language_info": {
   "codemirror_mode": {
    "name": "ipython",
    "version": 3
   },
   "file_extension": ".py",
   "mimetype": "text/x-python",
   "name": "python",
   "nbconvert_exporter": "python",
   "pygments_lexer": "ipython3",
   "version": "3.8.5"
  }
 },
 "nbformat": 4,
 "nbformat_minor": 4
}
